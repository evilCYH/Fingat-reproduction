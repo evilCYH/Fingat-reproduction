{
 "cells": [
  {
   "cell_type": "code",
   "execution_count": 1,
   "id": "47f196d0",
   "metadata": {},
   "outputs": [],
   "source": [
    "import pandas as pd\n",
    "import os"
   ]
  },
  {
   "cell_type": "code",
   "execution_count": 8,
   "id": "e3dfb666",
   "metadata": {},
   "outputs": [],
   "source": [
    "df = pd.read_csv(\"./datasets3/sp500_companies.csv\", encoding='ISO-8859-1')"
   ]
  },
  {
   "cell_type": "code",
   "execution_count": 10,
   "id": "c6a17242",
   "metadata": {},
   "outputs": [
    {
     "data": {
      "text/plain": [
       "array(['Consumer Services', 'Technology Services',\n",
       "       'Consumer Non-Durables', 'Finance', 'Health Technology',\n",
       "       'Electronic Technology', 'Retail Trade', 'Distribution Services',\n",
       "       'Consumer Durables', 'Producer Manufacturing',\n",
       "       'Commercial Services', 'Industrial Services', 'Utilities',\n",
       "       'Process Industries', 'Non-Energy Minerals', 'Transportation',\n",
       "       'Health Services', 'Energy Minerals', 'Communications'],\n",
       "      dtype=object)"
      ]
     },
     "execution_count": 10,
     "metadata": {},
     "output_type": "execute_result"
    }
   ],
   "source": [
    "sector_list = df[\"Sector\"].unique()\n",
    "sector_list"
   ]
  },
  {
   "cell_type": "code",
   "execution_count": 13,
   "id": "f262f317",
   "metadata": {},
   "outputs": [],
   "source": [
    "sorted_df = pd.concat([df[df[\"Sector\"] == sector] for sector in sector_list])"
   ]
  },
  {
   "cell_type": "code",
   "execution_count": 15,
   "id": "afb01a6e",
   "metadata": {},
   "outputs": [],
   "source": [
    "sorted_df.to_csv('./datasets3/arrange_sp500_companies.csv', index=False, encoding='ISO-8859-1')"
   ]
  },
  {
   "cell_type": "code",
   "execution_count": 18,
   "id": "911c5dc2",
   "metadata": {},
   "outputs": [],
   "source": [
    "len_list =[]\n",
    "for sector in sector_list:\n",
    "    len_list.append(len(df[df[\"Sector\"] == sector]))"
   ]
  },
  {
   "cell_type": "code",
   "execution_count": 19,
   "id": "2f2a85f3",
   "metadata": {},
   "outputs": [
    {
     "data": {
      "text/plain": [
       "[26, 48, 29, 89, 44, 46, 22, 9, 12, 26, 12, 9, 30, 21, 6, 15, 12, 16, 3]"
      ]
     },
     "execution_count": 19,
     "metadata": {},
     "output_type": "execute_result"
    }
   ],
   "source": [
    "len_list"
   ]
  },
  {
   "cell_type": "code",
   "execution_count": 4,
   "id": "640c6fec",
   "metadata": {},
   "outputs": [
    {
     "data": {
      "text/html": [
       "<div>\n",
       "<style scoped>\n",
       "    .dataframe tbody tr th:only-of-type {\n",
       "        vertical-align: middle;\n",
       "    }\n",
       "\n",
       "    .dataframe tbody tr th {\n",
       "        vertical-align: top;\n",
       "    }\n",
       "\n",
       "    .dataframe thead th {\n",
       "        text-align: right;\n",
       "    }\n",
       "</style>\n",
       "<table border=\"1\" class=\"dataframe\">\n",
       "  <thead>\n",
       "    <tr style=\"text-align: right;\">\n",
       "      <th></th>\n",
       "      <th>Symbol</th>\n",
       "      <th>Name</th>\n",
       "      <th>Sector</th>\n",
       "    </tr>\n",
       "  </thead>\n",
       "  <tbody>\n",
       "    <tr>\n",
       "      <th>0</th>\n",
       "      <td>LVS</td>\n",
       "      <td>Las Vegas Sands Corp.</td>\n",
       "      <td>Consumer Services</td>\n",
       "    </tr>\n",
       "    <tr>\n",
       "      <th>1</th>\n",
       "      <td>CRM</td>\n",
       "      <td>Salesforce, Inc.</td>\n",
       "      <td>Technology Services</td>\n",
       "    </tr>\n",
       "    <tr>\n",
       "      <th>2</th>\n",
       "      <td>TAP</td>\n",
       "      <td>Molson Coors Beverage Company</td>\n",
       "      <td>Consumer Non-Durables</td>\n",
       "    </tr>\n",
       "    <tr>\n",
       "      <th>3</th>\n",
       "      <td>WELL</td>\n",
       "      <td>Welltower Inc.</td>\n",
       "      <td>Finance</td>\n",
       "    </tr>\n",
       "    <tr>\n",
       "      <th>4</th>\n",
       "      <td>PANW</td>\n",
       "      <td>Palo Alto Networks, Inc.</td>\n",
       "      <td>Technology Services</td>\n",
       "    </tr>\n",
       "    <tr>\n",
       "      <th>...</th>\n",
       "      <td>...</td>\n",
       "      <td>...</td>\n",
       "      <td>...</td>\n",
       "    </tr>\n",
       "    <tr>\n",
       "      <th>470</th>\n",
       "      <td>QRVO</td>\n",
       "      <td>Qorvo, Inc.</td>\n",
       "      <td>Electronic Technology</td>\n",
       "    </tr>\n",
       "    <tr>\n",
       "      <th>471</th>\n",
       "      <td>HAS</td>\n",
       "      <td>Hasbro, Inc.</td>\n",
       "      <td>Consumer Durables</td>\n",
       "    </tr>\n",
       "    <tr>\n",
       "      <th>472</th>\n",
       "      <td>NRG</td>\n",
       "      <td>NRG Energy, Inc.</td>\n",
       "      <td>Utilities</td>\n",
       "    </tr>\n",
       "    <tr>\n",
       "      <th>473</th>\n",
       "      <td>XRAY</td>\n",
       "      <td>DENTSPLY SIRONA Inc.</td>\n",
       "      <td>Health Technology</td>\n",
       "    </tr>\n",
       "    <tr>\n",
       "      <th>474</th>\n",
       "      <td>WHR</td>\n",
       "      <td>Whirlpool Corporation</td>\n",
       "      <td>Consumer Durables</td>\n",
       "    </tr>\n",
       "  </tbody>\n",
       "</table>\n",
       "<p>475 rows × 3 columns</p>\n",
       "</div>"
      ],
      "text/plain": [
       "    Symbol                           Name                 Sector\n",
       "0      LVS          Las Vegas Sands Corp.      Consumer Services\n",
       "1      CRM               Salesforce, Inc.    Technology Services\n",
       "2      TAP  Molson Coors Beverage Company  Consumer Non-Durables\n",
       "3     WELL                 Welltower Inc.                Finance\n",
       "4     PANW       Palo Alto Networks, Inc.    Technology Services\n",
       "..     ...                            ...                    ...\n",
       "470   QRVO                    Qorvo, Inc.  Electronic Technology\n",
       "471    HAS                   Hasbro, Inc.      Consumer Durables\n",
       "472    NRG               NRG Energy, Inc.              Utilities\n",
       "473   XRAY           DENTSPLY SIRONA Inc.      Health Technology\n",
       "474    WHR          Whirlpool Corporation      Consumer Durables\n",
       "\n",
       "[475 rows x 3 columns]"
      ]
     },
     "execution_count": 4,
     "metadata": {},
     "output_type": "execute_result"
    }
   ],
   "source": [
    "SP500_name"
   ]
  }
 ],
 "metadata": {
  "kernelspec": {
   "display_name": "Pytorch-py3.9",
   "language": "python",
   "name": "pytorch"
  },
  "language_info": {
   "codemirror_mode": {
    "name": "ipython",
    "version": 3
   },
   "file_extension": ".py",
   "mimetype": "text/x-python",
   "name": "python",
   "nbconvert_exporter": "python",
   "pygments_lexer": "ipython3",
   "version": "3.9.18"
  },
  "toc": {
   "base_numbering": 1,
   "nav_menu": {},
   "number_sections": true,
   "sideBar": true,
   "skip_h1_title": false,
   "title_cell": "Table of Contents",
   "title_sidebar": "Contents",
   "toc_cell": false,
   "toc_position": {},
   "toc_section_display": true,
   "toc_window_display": false
  }
 },
 "nbformat": 4,
 "nbformat_minor": 5
}
