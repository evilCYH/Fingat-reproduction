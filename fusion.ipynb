{
 "cells": [
  {
   "cell_type": "code",
   "execution_count": 1,
   "id": "1527dc42-6cc2-4472-8213-fbf9fd2833b4",
   "metadata": {},
   "outputs": [],
   "source": [
    "import pickle\n",
    "import matplotlib.pyplot as plt\n",
    "import numpy as np\n",
    "import pandas as pd\n",
    "import torch\n",
    "import torch.nn as nn\n",
    "import torch.utils.data as Data\n",
    "import torch.nn.functional as F\n",
    "from torch_geometric.nn import GATConv, SAGPooling,global_mean_pool , global_max_pool \n",
    "from sklearn.metrics import mean_absolute_error\n",
    "from torch import optim"
   ]
  },
  {
   "cell_type": "code",
   "execution_count": 28,
   "id": "9711915a",
   "metadata": {},
   "outputs": [],
   "source": [
    "device = torch.device(\"cuda\" if torch.cuda.is_available() else \"cpu\")"
   ]
  },
  {
   "cell_type": "markdown",
   "id": "0a7e721c",
   "metadata": {},
   "source": [
    "## 导入数据"
   ]
  },
  {
   "cell_type": "code",
   "execution_count": 12,
   "id": "54cd253b",
   "metadata": {},
   "outputs": [
    {
     "name": "stdout",
     "output_type": "stream",
     "text": [
      "(390, 480, 64)\n"
     ]
    }
   ],
   "source": [
    "# a_i\n",
    "with open('./datasets/a_i.pkl', \"rb\") as f:\n",
    "    a_data = pickle.load(f)\n",
    "# 提取字典的值（数组）到一个列表中\n",
    "a_data_list = list(a_data.values())\n",
    "\n",
    "# 转换列表为NumPy数组\n",
    "a_i = np.array(a_data_list)\n",
    "\n",
    "# 检查结果数组的形状是否正确\n",
    "print(a_i.shape)  # 应输出 (390, 480, 64)"
   ]
  },
  {
   "cell_type": "code",
   "execution_count": 13,
   "id": "73f3e0f8",
   "metadata": {},
   "outputs": [
    {
     "name": "stdout",
     "output_type": "stream",
     "text": [
      "(390, 480, 8)\n"
     ]
    }
   ],
   "source": [
    "# g_i\n",
    "with open('./datasets/g_i.pkl', \"rb\") as f:\n",
    "    g_data = pickle.load(f)\n",
    "# 提取字典的值（数组）到一个列表中\n",
    "g_data_list = list(g_data.values())\n",
    "\n",
    "# 转换列表为NumPy数组\n",
    "g_i = np.array(g_data_list)\n",
    "\n",
    "# 检查结果数组的形状是否正确\n",
    "print(g_i.shape)  # 应输出 (390, 480, 8)"
   ]
  },
  {
   "cell_type": "code",
   "execution_count": 17,
   "id": "8551b29d",
   "metadata": {},
   "outputs": [
    {
     "data": {
      "text/plain": [
       "(390, 480)"
      ]
     },
     "execution_count": 17,
     "metadata": {},
     "output_type": "execute_result"
    }
   ],
   "source": [
    "with open('./datasets/sp500_data.pkl', \"rb\") as f:\n",
    "    data = pickle.load(f)\n",
    "test_y = data['test']['y_return ratio']\n",
    "test_y.shape"
   ]
  },
  {
   "cell_type": "markdown",
   "id": "835f1497",
   "metadata": {},
   "source": [
    "## 形成a_i长期序列"
   ]
  },
  {
   "cell_type": "code",
   "execution_count": 14,
   "id": "1ef71adc",
   "metadata": {},
   "outputs": [],
   "source": [
    "import torch\n",
    "from torch.utils.data import Dataset, DataLoader\n",
    "import torch.nn as nn\n",
    "import torch.nn.functional as F\n",
    "from torch.optim import Adam\n",
    "\n",
    "class StockDataset(Dataset):\n",
    "    def __init__(self, x, y):\n",
    "        self.x = x\n",
    "        self.y = y\n",
    "\n",
    "    def __len__(self):\n",
    "        return len(self.x)\n",
    "\n",
    "    def __getitem__(self, idx):\n",
    "        return self.x[idx], self.y[idx]\n",
    "\n",
    "def create_dataloader(x, y, batch_size):\n",
    "    dataset = StockDataset(x, y)\n",
    "    dataloader = DataLoader(dataset, batch_size=batch_size, shuffle=True)\n",
    "    return dataloader"
   ]
  },
  {
   "cell_type": "code",
   "execution_count": 32,
   "id": "8c61c6ed",
   "metadata": {},
   "outputs": [],
   "source": [
    "class AttentionBlock(nn.Module):\n",
    "    def __init__(self,time_step,dim):\n",
    "        super(AttentionBlock, self).__init__()\n",
    "        self.attention_matrix = nn.Linear(time_step, time_step)\n",
    "\n",
    "    def forward(self, inputs):\n",
    "        inputs_t = torch.transpose(inputs,2,1) # (batch_size, input_dim, time_step)\n",
    "        attention_weight = self.attention_matrix(inputs_t)\n",
    "        attention_probs = F.softmax(attention_weight,dim=-1)\n",
    "        attention_probs = torch.transpose(attention_probs,2,1)\n",
    "        attention_vec = torch.mul(attention_probs, inputs)\n",
    "        attention_vec = torch.sum(attention_vec,dim=1)\n",
    "        return attention_vec, attention_probs"
   ]
  },
  {
   "cell_type": "code",
   "execution_count": 25,
   "id": "7933be58",
   "metadata": {},
   "outputs": [],
   "source": [
    "dataloader_ai = create_dataloader(a_i, test_y, batch_size=16)"
   ]
  },
  {
   "cell_type": "code",
   "execution_count": 26,
   "id": "dbcb6e8a",
   "metadata": {
    "scrolled": true
   },
   "outputs": [
    {
     "name": "stdout",
     "output_type": "stream",
     "text": [
      "0\n",
      "torch.Size([16, 480, 64])\n",
      "torch.Size([16, 480])\n",
      "=========================\n",
      "1\n",
      "torch.Size([16, 480, 64])\n",
      "torch.Size([16, 480])\n",
      "=========================\n",
      "2\n",
      "torch.Size([16, 480, 64])\n",
      "torch.Size([16, 480])\n",
      "=========================\n",
      "3\n",
      "torch.Size([16, 480, 64])\n",
      "torch.Size([16, 480])\n",
      "=========================\n",
      "4\n",
      "torch.Size([16, 480, 64])\n",
      "torch.Size([16, 480])\n",
      "=========================\n",
      "5\n",
      "torch.Size([16, 480, 64])\n",
      "torch.Size([16, 480])\n",
      "=========================\n",
      "6\n",
      "torch.Size([16, 480, 64])\n",
      "torch.Size([16, 480])\n",
      "=========================\n",
      "7\n",
      "torch.Size([16, 480, 64])\n",
      "torch.Size([16, 480])\n",
      "=========================\n",
      "8\n",
      "torch.Size([16, 480, 64])\n",
      "torch.Size([16, 480])\n",
      "=========================\n",
      "9\n",
      "torch.Size([16, 480, 64])\n",
      "torch.Size([16, 480])\n",
      "=========================\n",
      "10\n",
      "torch.Size([16, 480, 64])\n",
      "torch.Size([16, 480])\n",
      "=========================\n",
      "11\n",
      "torch.Size([16, 480, 64])\n",
      "torch.Size([16, 480])\n",
      "=========================\n",
      "12\n",
      "torch.Size([16, 480, 64])\n",
      "torch.Size([16, 480])\n",
      "=========================\n",
      "13\n",
      "torch.Size([16, 480, 64])\n",
      "torch.Size([16, 480])\n",
      "=========================\n",
      "14\n",
      "torch.Size([16, 480, 64])\n",
      "torch.Size([16, 480])\n",
      "=========================\n",
      "15\n",
      "torch.Size([16, 480, 64])\n",
      "torch.Size([16, 480])\n",
      "=========================\n",
      "16\n",
      "torch.Size([16, 480, 64])\n",
      "torch.Size([16, 480])\n",
      "=========================\n",
      "17\n",
      "torch.Size([16, 480, 64])\n",
      "torch.Size([16, 480])\n",
      "=========================\n",
      "18\n",
      "torch.Size([16, 480, 64])\n",
      "torch.Size([16, 480])\n",
      "=========================\n",
      "19\n",
      "torch.Size([16, 480, 64])\n",
      "torch.Size([16, 480])\n",
      "=========================\n",
      "20\n",
      "torch.Size([16, 480, 64])\n",
      "torch.Size([16, 480])\n",
      "=========================\n",
      "21\n",
      "torch.Size([16, 480, 64])\n",
      "torch.Size([16, 480])\n",
      "=========================\n",
      "22\n",
      "torch.Size([16, 480, 64])\n",
      "torch.Size([16, 480])\n",
      "=========================\n",
      "23\n",
      "torch.Size([16, 480, 64])\n",
      "torch.Size([16, 480])\n",
      "=========================\n",
      "24\n",
      "torch.Size([6, 480, 64])\n",
      "torch.Size([6, 480])\n",
      "=========================\n"
     ]
    }
   ],
   "source": [
    "for batch_idx, (seq, target) in enumerate(dataloader_ai):\n",
    "    print(batch_idx)\n",
    "    print(seq.shape)\n",
    "    print(target.shape)\n",
    "    print(\"=========================\")"
   ]
  },
  {
   "cell_type": "code",
   "execution_count": 37,
   "id": "056bbfda",
   "metadata": {},
   "outputs": [],
   "source": [
    "# 建立\n",
    "ai_attmodel = AttentionBlock(time_step=20, dim=32)\n",
    "\n",
    "# 定义损失和优化\n",
    "criterion = nn.MSELoss()  # 因为是回归问题，所以我们使用均方误差损失\n",
    "optimizer = Adam(ai_attmodel.parameters(), lr=0.001)"
   ]
  },
  {
   "cell_type": "code",
   "execution_count": 38,
   "id": "90898b0a",
   "metadata": {},
   "outputs": [
    {
     "name": "stdout",
     "output_type": "stream",
     "text": [
      "torch.Size([384, 20, 64])\n",
      "torch.Size([384, 20, 1])\n"
     ]
    },
    {
     "ename": "RuntimeError",
     "evalue": "mat1 and mat2 shapes cannot be multiplied (7680x64 and 20x20)",
     "output_type": "error",
     "traceback": [
      "\u001b[1;31m---------------------------------------------------------------------------\u001b[0m",
      "\u001b[1;31mRuntimeError\u001b[0m                              Traceback (most recent call last)",
      "Cell \u001b[1;32mIn[38], line 28\u001b[0m\n\u001b[0;32m     25\u001b[0m             \u001b[38;5;28mprint\u001b[39m(\u001b[38;5;124m'\u001b[39m\u001b[38;5;124msave!\u001b[39m\u001b[38;5;124m'\u001b[39m)\n\u001b[0;32m     27\u001b[0m \u001b[38;5;66;03m# 开始训练\u001b[39;00m\n\u001b[1;32m---> 28\u001b[0m \u001b[43mtrain_model\u001b[49m\u001b[43m(\u001b[49m\u001b[43mai_attmodel\u001b[49m\u001b[43m,\u001b[49m\u001b[43m \u001b[49m\u001b[43mdataloader_ai\u001b[49m\u001b[43m,\u001b[49m\u001b[43m \u001b[49m\u001b[43mepochs\u001b[49m\u001b[38;5;241;43m=\u001b[39;49m\u001b[38;5;241;43m50\u001b[39;49m\u001b[43m)\u001b[49m\n",
      "Cell \u001b[1;32mIn[38], line 15\u001b[0m, in \u001b[0;36mtrain_model\u001b[1;34m(model, dataloader, epochs)\u001b[0m\n\u001b[0;32m     13\u001b[0m target \u001b[38;5;241m=\u001b[39m target\u001b[38;5;241m.\u001b[39mview(\u001b[38;5;241m-\u001b[39m\u001b[38;5;241m1\u001b[39m,\u001b[38;5;241m20\u001b[39m, \u001b[38;5;241m1\u001b[39m)  \u001b[38;5;66;03m# Flatten target to have shape (batch_size * num_stocks)\u001b[39;00m\n\u001b[0;32m     14\u001b[0m \u001b[38;5;28mprint\u001b[39m(target\u001b[38;5;241m.\u001b[39mshape)  \u001b[38;5;66;03m#  [5984, 1]\u001b[39;00m\n\u001b[1;32m---> 15\u001b[0m attention_vec, attention_probs \u001b[38;5;241m=\u001b[39m \u001b[43mmodel\u001b[49m\u001b[43m(\u001b[49m\u001b[43mseq\u001b[49m\u001b[43m)\u001b[49m\n\u001b[0;32m     16\u001b[0m attention_vec \u001b[38;5;241m=\u001b[39m attention_vec\u001b[38;5;241m.\u001b[39msqueeze()  \u001b[38;5;66;03m# Remove extra dimensions to match target shape\u001b[39;00m\n\u001b[0;32m     17\u001b[0m loss \u001b[38;5;241m=\u001b[39m criterion(attention_vec, target)\n",
      "File \u001b[1;32mD:\\_Application\\anaconda3\\envs\\Pytorch\\lib\\site-packages\\torch\\nn\\modules\\module.py:1518\u001b[0m, in \u001b[0;36mModule._wrapped_call_impl\u001b[1;34m(self, *args, **kwargs)\u001b[0m\n\u001b[0;32m   1516\u001b[0m     \u001b[38;5;28;01mreturn\u001b[39;00m \u001b[38;5;28mself\u001b[39m\u001b[38;5;241m.\u001b[39m_compiled_call_impl(\u001b[38;5;241m*\u001b[39margs, \u001b[38;5;241m*\u001b[39m\u001b[38;5;241m*\u001b[39mkwargs)  \u001b[38;5;66;03m# type: ignore[misc]\u001b[39;00m\n\u001b[0;32m   1517\u001b[0m \u001b[38;5;28;01melse\u001b[39;00m:\n\u001b[1;32m-> 1518\u001b[0m     \u001b[38;5;28;01mreturn\u001b[39;00m \u001b[38;5;28mself\u001b[39m\u001b[38;5;241m.\u001b[39m_call_impl(\u001b[38;5;241m*\u001b[39margs, \u001b[38;5;241m*\u001b[39m\u001b[38;5;241m*\u001b[39mkwargs)\n",
      "File \u001b[1;32mD:\\_Application\\anaconda3\\envs\\Pytorch\\lib\\site-packages\\torch\\nn\\modules\\module.py:1527\u001b[0m, in \u001b[0;36mModule._call_impl\u001b[1;34m(self, *args, **kwargs)\u001b[0m\n\u001b[0;32m   1522\u001b[0m \u001b[38;5;66;03m# If we don't have any hooks, we want to skip the rest of the logic in\u001b[39;00m\n\u001b[0;32m   1523\u001b[0m \u001b[38;5;66;03m# this function, and just call forward.\u001b[39;00m\n\u001b[0;32m   1524\u001b[0m \u001b[38;5;28;01mif\u001b[39;00m \u001b[38;5;129;01mnot\u001b[39;00m (\u001b[38;5;28mself\u001b[39m\u001b[38;5;241m.\u001b[39m_backward_hooks \u001b[38;5;129;01mor\u001b[39;00m \u001b[38;5;28mself\u001b[39m\u001b[38;5;241m.\u001b[39m_backward_pre_hooks \u001b[38;5;129;01mor\u001b[39;00m \u001b[38;5;28mself\u001b[39m\u001b[38;5;241m.\u001b[39m_forward_hooks \u001b[38;5;129;01mor\u001b[39;00m \u001b[38;5;28mself\u001b[39m\u001b[38;5;241m.\u001b[39m_forward_pre_hooks\n\u001b[0;32m   1525\u001b[0m         \u001b[38;5;129;01mor\u001b[39;00m _global_backward_pre_hooks \u001b[38;5;129;01mor\u001b[39;00m _global_backward_hooks\n\u001b[0;32m   1526\u001b[0m         \u001b[38;5;129;01mor\u001b[39;00m _global_forward_hooks \u001b[38;5;129;01mor\u001b[39;00m _global_forward_pre_hooks):\n\u001b[1;32m-> 1527\u001b[0m     \u001b[38;5;28;01mreturn\u001b[39;00m forward_call(\u001b[38;5;241m*\u001b[39margs, \u001b[38;5;241m*\u001b[39m\u001b[38;5;241m*\u001b[39mkwargs)\n\u001b[0;32m   1529\u001b[0m \u001b[38;5;28;01mtry\u001b[39;00m:\n\u001b[0;32m   1530\u001b[0m     result \u001b[38;5;241m=\u001b[39m \u001b[38;5;28;01mNone\u001b[39;00m\n",
      "Cell \u001b[1;32mIn[32], line 8\u001b[0m, in \u001b[0;36mAttentionBlock.forward\u001b[1;34m(self, inputs)\u001b[0m\n\u001b[0;32m      6\u001b[0m     \u001b[38;5;28;01mdef\u001b[39;00m \u001b[38;5;21mforward\u001b[39m(\u001b[38;5;28mself\u001b[39m, inputs):\n\u001b[0;32m      7\u001b[0m \u001b[38;5;66;03m#         inputs_t = torch.transpose(inputs,2,1) # (batch_size, input_dim, time_step)\u001b[39;00m\n\u001b[1;32m----> 8\u001b[0m         attention_weight \u001b[38;5;241m=\u001b[39m \u001b[38;5;28;43mself\u001b[39;49m\u001b[38;5;241;43m.\u001b[39;49m\u001b[43mattention_matrix\u001b[49m\u001b[43m(\u001b[49m\u001b[43minputs\u001b[49m\u001b[43m)\u001b[49m\n\u001b[0;32m      9\u001b[0m         attention_probs \u001b[38;5;241m=\u001b[39m F\u001b[38;5;241m.\u001b[39msoftmax(attention_weight,dim\u001b[38;5;241m=\u001b[39m\u001b[38;5;241m-\u001b[39m\u001b[38;5;241m1\u001b[39m)\n\u001b[0;32m     10\u001b[0m         attention_probs \u001b[38;5;241m=\u001b[39m torch\u001b[38;5;241m.\u001b[39mtranspose(attention_probs,\u001b[38;5;241m2\u001b[39m,\u001b[38;5;241m1\u001b[39m)\n",
      "File \u001b[1;32mD:\\_Application\\anaconda3\\envs\\Pytorch\\lib\\site-packages\\torch\\nn\\modules\\module.py:1518\u001b[0m, in \u001b[0;36mModule._wrapped_call_impl\u001b[1;34m(self, *args, **kwargs)\u001b[0m\n\u001b[0;32m   1516\u001b[0m     \u001b[38;5;28;01mreturn\u001b[39;00m \u001b[38;5;28mself\u001b[39m\u001b[38;5;241m.\u001b[39m_compiled_call_impl(\u001b[38;5;241m*\u001b[39margs, \u001b[38;5;241m*\u001b[39m\u001b[38;5;241m*\u001b[39mkwargs)  \u001b[38;5;66;03m# type: ignore[misc]\u001b[39;00m\n\u001b[0;32m   1517\u001b[0m \u001b[38;5;28;01melse\u001b[39;00m:\n\u001b[1;32m-> 1518\u001b[0m     \u001b[38;5;28;01mreturn\u001b[39;00m \u001b[38;5;28mself\u001b[39m\u001b[38;5;241m.\u001b[39m_call_impl(\u001b[38;5;241m*\u001b[39margs, \u001b[38;5;241m*\u001b[39m\u001b[38;5;241m*\u001b[39mkwargs)\n",
      "File \u001b[1;32mD:\\_Application\\anaconda3\\envs\\Pytorch\\lib\\site-packages\\torch\\nn\\modules\\module.py:1527\u001b[0m, in \u001b[0;36mModule._call_impl\u001b[1;34m(self, *args, **kwargs)\u001b[0m\n\u001b[0;32m   1522\u001b[0m \u001b[38;5;66;03m# If we don't have any hooks, we want to skip the rest of the logic in\u001b[39;00m\n\u001b[0;32m   1523\u001b[0m \u001b[38;5;66;03m# this function, and just call forward.\u001b[39;00m\n\u001b[0;32m   1524\u001b[0m \u001b[38;5;28;01mif\u001b[39;00m \u001b[38;5;129;01mnot\u001b[39;00m (\u001b[38;5;28mself\u001b[39m\u001b[38;5;241m.\u001b[39m_backward_hooks \u001b[38;5;129;01mor\u001b[39;00m \u001b[38;5;28mself\u001b[39m\u001b[38;5;241m.\u001b[39m_backward_pre_hooks \u001b[38;5;129;01mor\u001b[39;00m \u001b[38;5;28mself\u001b[39m\u001b[38;5;241m.\u001b[39m_forward_hooks \u001b[38;5;129;01mor\u001b[39;00m \u001b[38;5;28mself\u001b[39m\u001b[38;5;241m.\u001b[39m_forward_pre_hooks\n\u001b[0;32m   1525\u001b[0m         \u001b[38;5;129;01mor\u001b[39;00m _global_backward_pre_hooks \u001b[38;5;129;01mor\u001b[39;00m _global_backward_hooks\n\u001b[0;32m   1526\u001b[0m         \u001b[38;5;129;01mor\u001b[39;00m _global_forward_hooks \u001b[38;5;129;01mor\u001b[39;00m _global_forward_pre_hooks):\n\u001b[1;32m-> 1527\u001b[0m     \u001b[38;5;28;01mreturn\u001b[39;00m forward_call(\u001b[38;5;241m*\u001b[39margs, \u001b[38;5;241m*\u001b[39m\u001b[38;5;241m*\u001b[39mkwargs)\n\u001b[0;32m   1529\u001b[0m \u001b[38;5;28;01mtry\u001b[39;00m:\n\u001b[0;32m   1530\u001b[0m     result \u001b[38;5;241m=\u001b[39m \u001b[38;5;28;01mNone\u001b[39;00m\n",
      "File \u001b[1;32mD:\\_Application\\anaconda3\\envs\\Pytorch\\lib\\site-packages\\torch\\nn\\modules\\linear.py:114\u001b[0m, in \u001b[0;36mLinear.forward\u001b[1;34m(self, input)\u001b[0m\n\u001b[0;32m    113\u001b[0m \u001b[38;5;28;01mdef\u001b[39;00m \u001b[38;5;21mforward\u001b[39m(\u001b[38;5;28mself\u001b[39m, \u001b[38;5;28minput\u001b[39m: Tensor) \u001b[38;5;241m-\u001b[39m\u001b[38;5;241m>\u001b[39m Tensor:\n\u001b[1;32m--> 114\u001b[0m     \u001b[38;5;28;01mreturn\u001b[39;00m \u001b[43mF\u001b[49m\u001b[38;5;241;43m.\u001b[39;49m\u001b[43mlinear\u001b[49m\u001b[43m(\u001b[49m\u001b[38;5;28;43minput\u001b[39;49m\u001b[43m,\u001b[49m\u001b[43m \u001b[49m\u001b[38;5;28;43mself\u001b[39;49m\u001b[38;5;241;43m.\u001b[39;49m\u001b[43mweight\u001b[49m\u001b[43m,\u001b[49m\u001b[43m \u001b[49m\u001b[38;5;28;43mself\u001b[39;49m\u001b[38;5;241;43m.\u001b[39;49m\u001b[43mbias\u001b[49m\u001b[43m)\u001b[49m\n",
      "\u001b[1;31mRuntimeError\u001b[0m: mat1 and mat2 shapes cannot be multiplied (7680x64 and 20x20)"
     ]
    }
   ],
   "source": [
    "# 5. 训练模型\n",
    "def train_model(model, dataloader, epochs):\n",
    "    min_loss = float('inf')  # 初始最小损失设为正无穷大\n",
    "    model = model.to(device)\n",
    "    model.train()\n",
    "    for epoch in range(epochs):\n",
    "        for batch_idx, (seq, target) in enumerate(dataloader):\n",
    "            seq = seq.to(device).float()\n",
    "            target = target.to(device).float()\n",
    "            optimizer.zero_grad()\n",
    "            seq = seq.view(-1, 20, 64)  # Reshape to (batch_size * num_stocks, time_step, input_dim)\n",
    "            print(seq.shape)  #  [5984, 7, 30]\n",
    "            target = target.view(-1, 20, 1)  # Flatten target to have shape (batch_size * num_stocks)\n",
    "            print(target.shape)  #  [5984, 1]\n",
    "            attention_vec, attention_probs = model(seq)\n",
    "            attention_vec = attention_vec.squeeze()  # Remove extra dimensions to match target shape\n",
    "            loss = criterion(attention_vec, target)\n",
    "            loss.backward()\n",
    "            optimizer.step()\n",
    "            if batch_idx % 20 == 0:\n",
    "                print(f'Epoch {epoch}, Batch {batch_idx}, Loss {loss.item()}')\n",
    "        if loss.item() < min_loss:  # 当前损失小于记录的最小损失就保存\n",
    "            min_loss = loss.item() \n",
    "            torch.save(model, './output/attention_ai.pkl') \n",
    "            print('save!')\n",
    "\n",
    "# 开始训练\n",
    "train_model(ai_attmodel, dataloader_ai, epochs=50)"
   ]
  },
  {
   "cell_type": "code",
   "execution_count": null,
   "id": "341d10ea",
   "metadata": {},
   "outputs": [],
   "source": []
  }
 ],
 "metadata": {
  "kernelspec": {
   "display_name": "Pytorch-py3.9",
   "language": "python",
   "name": "pytorch"
  },
  "language_info": {
   "codemirror_mode": {
    "name": "ipython",
    "version": 3
   },
   "file_extension": ".py",
   "mimetype": "text/x-python",
   "name": "python",
   "nbconvert_exporter": "python",
   "pygments_lexer": "ipython3",
   "version": "3.9.18"
  },
  "toc": {
   "base_numbering": 1,
   "nav_menu": {},
   "number_sections": true,
   "sideBar": true,
   "skip_h1_title": false,
   "title_cell": "Table of Contents",
   "title_sidebar": "Contents",
   "toc_cell": false,
   "toc_position": {},
   "toc_section_display": true,
   "toc_window_display": false
  }
 },
 "nbformat": 4,
 "nbformat_minor": 5
}
